{
 "cells": [
  {
   "cell_type": "code",
   "execution_count": 8,
   "metadata": {},
   "outputs": [],
   "source": [
    "import pandas as pd"
   ]
  },
  {
   "cell_type": "code",
   "execution_count": 9,
   "metadata": {},
   "outputs": [
    {
     "data": {
      "text/html": [
       "<div>\n",
       "<style scoped>\n",
       "    .dataframe tbody tr th:only-of-type {\n",
       "        vertical-align: middle;\n",
       "    }\n",
       "\n",
       "    .dataframe tbody tr th {\n",
       "        vertical-align: top;\n",
       "    }\n",
       "\n",
       "    .dataframe thead th {\n",
       "        text-align: right;\n",
       "    }\n",
       "</style>\n",
       "<table border=\"1\" class=\"dataframe\">\n",
       "  <thead>\n",
       "    <tr style=\"text-align: right;\">\n",
       "      <th></th>\n",
       "      <th>id</th>\n",
       "      <th>kode_provinsi</th>\n",
       "      <th>nama_provinsi</th>\n",
       "      <th>kode_kabupaten_kota</th>\n",
       "      <th>nama_kabupaten_kota</th>\n",
       "      <th>jumlah_produksi_sampah</th>\n",
       "      <th>satuan</th>\n",
       "      <th>tahun</th>\n",
       "    </tr>\n",
       "  </thead>\n",
       "  <tbody>\n",
       "    <tr>\n",
       "      <th>0</th>\n",
       "      <td>1</td>\n",
       "      <td>32</td>\n",
       "      <td>JAWA BARAT</td>\n",
       "      <td>3201</td>\n",
       "      <td>KABUPATEN BOGOR</td>\n",
       "      <td>1511.15</td>\n",
       "      <td>TON PER HARI</td>\n",
       "      <td>2015</td>\n",
       "    </tr>\n",
       "    <tr>\n",
       "      <th>1</th>\n",
       "      <td>2</td>\n",
       "      <td>32</td>\n",
       "      <td>JAWA BARAT</td>\n",
       "      <td>3202</td>\n",
       "      <td>KABUPATEN SUKABUMI</td>\n",
       "      <td>419.01</td>\n",
       "      <td>TON PER HARI</td>\n",
       "      <td>2015</td>\n",
       "    </tr>\n",
       "    <tr>\n",
       "      <th>2</th>\n",
       "      <td>3</td>\n",
       "      <td>32</td>\n",
       "      <td>JAWA BARAT</td>\n",
       "      <td>3203</td>\n",
       "      <td>KABUPATEN CIANJUR</td>\n",
       "      <td>981.41</td>\n",
       "      <td>TON PER HARI</td>\n",
       "      <td>2015</td>\n",
       "    </tr>\n",
       "    <tr>\n",
       "      <th>3</th>\n",
       "      <td>4</td>\n",
       "      <td>32</td>\n",
       "      <td>JAWA BARAT</td>\n",
       "      <td>3204</td>\n",
       "      <td>KABUPATEN BANDUNG</td>\n",
       "      <td>1895.94</td>\n",
       "      <td>TON PER HARI</td>\n",
       "      <td>2015</td>\n",
       "    </tr>\n",
       "    <tr>\n",
       "      <th>4</th>\n",
       "      <td>5</td>\n",
       "      <td>32</td>\n",
       "      <td>JAWA BARAT</td>\n",
       "      <td>3205</td>\n",
       "      <td>KABUPATEN GARUT</td>\n",
       "      <td>464.74</td>\n",
       "      <td>TON PER HARI</td>\n",
       "      <td>2015</td>\n",
       "    </tr>\n",
       "    <tr>\n",
       "      <th>...</th>\n",
       "      <td>...</td>\n",
       "      <td>...</td>\n",
       "      <td>...</td>\n",
       "      <td>...</td>\n",
       "      <td>...</td>\n",
       "      <td>...</td>\n",
       "      <td>...</td>\n",
       "      <td>...</td>\n",
       "    </tr>\n",
       "    <tr>\n",
       "      <th>238</th>\n",
       "      <td>239</td>\n",
       "      <td>32</td>\n",
       "      <td>JAWA BARAT</td>\n",
       "      <td>3275</td>\n",
       "      <td>KOTA BEKASI</td>\n",
       "      <td>NaN</td>\n",
       "      <td>TON PER HARI</td>\n",
       "      <td>2023</td>\n",
       "    </tr>\n",
       "    <tr>\n",
       "      <th>239</th>\n",
       "      <td>240</td>\n",
       "      <td>32</td>\n",
       "      <td>JAWA BARAT</td>\n",
       "      <td>3276</td>\n",
       "      <td>KOTA DEPOK</td>\n",
       "      <td>NaN</td>\n",
       "      <td>TON PER HARI</td>\n",
       "      <td>2023</td>\n",
       "    </tr>\n",
       "    <tr>\n",
       "      <th>240</th>\n",
       "      <td>241</td>\n",
       "      <td>32</td>\n",
       "      <td>JAWA BARAT</td>\n",
       "      <td>3277</td>\n",
       "      <td>KOTA CIMAHI</td>\n",
       "      <td>NaN</td>\n",
       "      <td>TON PER HARI</td>\n",
       "      <td>2023</td>\n",
       "    </tr>\n",
       "    <tr>\n",
       "      <th>241</th>\n",
       "      <td>242</td>\n",
       "      <td>32</td>\n",
       "      <td>JAWA BARAT</td>\n",
       "      <td>3278</td>\n",
       "      <td>KOTA TASIKMALAYA</td>\n",
       "      <td>NaN</td>\n",
       "      <td>TON PER HARI</td>\n",
       "      <td>2023</td>\n",
       "    </tr>\n",
       "    <tr>\n",
       "      <th>242</th>\n",
       "      <td>243</td>\n",
       "      <td>32</td>\n",
       "      <td>JAWA BARAT</td>\n",
       "      <td>3279</td>\n",
       "      <td>KOTA BANJAR</td>\n",
       "      <td>NaN</td>\n",
       "      <td>TON PER HARI</td>\n",
       "      <td>2023</td>\n",
       "    </tr>\n",
       "  </tbody>\n",
       "</table>\n",
       "<p>243 rows × 8 columns</p>\n",
       "</div>"
      ],
      "text/plain": [
       "      id  kode_provinsi nama_provinsi  kode_kabupaten_kota  \\\n",
       "0      1             32    JAWA BARAT                 3201   \n",
       "1      2             32    JAWA BARAT                 3202   \n",
       "2      3             32    JAWA BARAT                 3203   \n",
       "3      4             32    JAWA BARAT                 3204   \n",
       "4      5             32    JAWA BARAT                 3205   \n",
       "..   ...            ...           ...                  ...   \n",
       "238  239             32    JAWA BARAT                 3275   \n",
       "239  240             32    JAWA BARAT                 3276   \n",
       "240  241             32    JAWA BARAT                 3277   \n",
       "241  242             32    JAWA BARAT                 3278   \n",
       "242  243             32    JAWA BARAT                 3279   \n",
       "\n",
       "    nama_kabupaten_kota  jumlah_produksi_sampah        satuan  tahun  \n",
       "0       KABUPATEN BOGOR                 1511.15  TON PER HARI   2015  \n",
       "1    KABUPATEN SUKABUMI                  419.01  TON PER HARI   2015  \n",
       "2     KABUPATEN CIANJUR                  981.41  TON PER HARI   2015  \n",
       "3     KABUPATEN BANDUNG                 1895.94  TON PER HARI   2015  \n",
       "4       KABUPATEN GARUT                  464.74  TON PER HARI   2015  \n",
       "..                  ...                     ...           ...    ...  \n",
       "238         KOTA BEKASI                     NaN  TON PER HARI   2023  \n",
       "239          KOTA DEPOK                     NaN  TON PER HARI   2023  \n",
       "240         KOTA CIMAHI                     NaN  TON PER HARI   2023  \n",
       "241    KOTA TASIKMALAYA                     NaN  TON PER HARI   2023  \n",
       "242         KOTA BANJAR                     NaN  TON PER HARI   2023  \n",
       "\n",
       "[243 rows x 8 columns]"
      ]
     },
     "execution_count": 9,
     "metadata": {},
     "output_type": "execute_result"
    }
   ],
   "source": [
    "# Membaca File CSV\n",
    "df_csv = pd.read_csv('produksi_sampah.csv')\n",
    "df_csv"
   ]
  },
  {
   "cell_type": "code",
   "execution_count": null,
   "metadata": {},
   "outputs": [],
   "source": [
    "!git init\n",
    "!git add datasampah.ipynb\n",
    "!git commit -m \"commit awal file csv\"\n",
    "!git remote add origin https://github.com/ucupp45/sampah_jabar.git\n",
    "!git push -u origin master"
   ]
  },
  {
   "cell_type": "code",
   "execution_count": 11,
   "metadata": {},
   "outputs": [
    {
     "name": "stdout",
     "output_type": "stream",
     "text": [
      "Total produksi sampah di Jawa Barat pada tahun 2016 adalah 20969.27 ton per hari\n"
     ]
    }
   ],
   "source": [
    "tahun_pilihan = 2016  \n",
    "\n",
    "total_produksi_sampah = 0\n",
    "\n",
    "for index, row in df_csv.iterrows():\n",
    "    if row['tahun'] == tahun_pilihan:  \n",
    "        total_produksi_sampah += row['jumlah_produksi_sampah']\n",
    "\n",
    "print(f\"Total produksi sampah di Jawa Barat pada tahun {tahun_pilihan} adalah {total_produksi_sampah:.2f} ton per hari\")"
   ]
  },
  {
   "cell_type": "code",
   "execution_count": 12,
   "metadata": {},
   "outputs": [
    {
     "name": "stderr",
     "output_type": "stream",
     "text": [
      "warning: in the working copy of 'datasampah.ipynb', LF will be replaced by CRLF the next time Git touches it\n"
     ]
    },
    {
     "name": "stdout",
     "output_type": "stream",
     "text": [
      "[master faa3941] soal nomor 2\n",
      " 1 file changed, 230 insertions(+), 30 deletions(-)\n",
      "branch 'master' set up to track 'origin/master'.\n"
     ]
    },
    {
     "name": "stderr",
     "output_type": "stream",
     "text": [
      "To https://github.com/ucupp45/sampah_jabar.git\n",
      "   d862a3f..faa3941  master -> master\n"
     ]
    }
   ],
   "source": [
    "!git add datasampah.ipynb\n",
    "!git commit -m \"soal nomor 2\"\n",
    "!git push -u origin master"
   ]
  },
  {
   "cell_type": "code",
   "execution_count": null,
   "metadata": {},
   "outputs": [],
   "source": [
    "total_pertahun = {}\n",
    "\n",
    "for index, row in df_csv.iterrows():\n",
    "    tahun = row['tahun']  \n",
    "    jumlah_sampah = row['jumlah_produksi_sampah']  \n",
    "    \n",
    "    if tahun in total_pertahun:\n",
    "        total_pertahun[tahun] += jumlah_sampah  \n",
    "    else:\n",
    "        total_pertahun[tahun] = jumlah_sampah  \n",
    "\n",
    "for tahun, total in total_pertahun.items():\n",
    "    print(f\"Hasil total produksi sampah di tahun {tahun} adalah {total:.2f} ton per hari\")"
   ]
  }
 ],
 "metadata": {
  "kernelspec": {
   "display_name": "Python 3",
   "language": "python",
   "name": "python3"
  },
  "language_info": {
   "codemirror_mode": {
    "name": "ipython",
    "version": 3
   },
   "file_extension": ".py",
   "mimetype": "text/x-python",
   "name": "python",
   "nbconvert_exporter": "python",
   "pygments_lexer": "ipython3",
   "version": "3.10.6"
  }
 },
 "nbformat": 4,
 "nbformat_minor": 2
}
